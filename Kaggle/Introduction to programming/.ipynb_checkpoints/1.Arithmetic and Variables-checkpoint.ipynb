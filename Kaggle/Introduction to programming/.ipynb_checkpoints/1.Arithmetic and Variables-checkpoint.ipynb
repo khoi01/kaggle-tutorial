{
 "cells": [
  {
   "cell_type": "code",
   "execution_count": 1,
   "id": "08f2f06f-1e2b-4e06-9e27-5569222ccfcc",
   "metadata": {},
   "outputs": [
    {
     "name": "stdout",
     "output_type": "stream",
     "text": [
      "Hello, world!\n"
     ]
    }
   ],
   "source": [
    "print(\"Hello, world!\")"
   ]
  },
  {
   "cell_type": "code",
   "execution_count": 2,
   "id": "21ac9a2f-d4e3-45e9-ae30-d3928c47ff44",
   "metadata": {},
   "outputs": [
    {
     "name": "stdout",
     "output_type": "stream",
     "text": [
      "3\n"
     ]
    }
   ],
   "source": [
    "print(1+2)"
   ]
  },
  {
   "cell_type": "code",
   "execution_count": 3,
   "id": "2889e96e-4df2-4b8b-8f84-b5c5ab274a69",
   "metadata": {},
   "outputs": [
    {
     "name": "stdout",
     "output_type": "stream",
     "text": [
      "4\n"
     ]
    }
   ],
   "source": [
    "print(9-5)"
   ]
  },
  {
   "cell_type": "code",
   "execution_count": 4,
   "id": "cd540cce-eced-430f-8dd3-a53caf7aafe1",
   "metadata": {},
   "outputs": [
    {
     "data": {
      "text/plain": [
       "1"
      ]
     },
     "execution_count": 4,
     "metadata": {},
     "output_type": "execute_result"
    }
   ],
   "source": [
    "((1+1)+(2-3))"
   ]
  },
  {
   "cell_type": "code",
   "execution_count": 5,
   "id": "35ea9108-8ad3-4cfc-84fe-3c7ad96fc463",
   "metadata": {},
   "outputs": [
    {
     "name": "stdout",
     "output_type": "stream",
     "text": [
      "6\n"
     ]
    }
   ],
   "source": [
    "#3 * 2 = 6\n",
    "print(3*2)"
   ]
  },
  {
   "cell_type": "code",
   "execution_count": 7,
   "id": "43f2862b-b0e1-4abb-a44a-d17f1d94030b",
   "metadata": {},
   "outputs": [
    {
     "name": "stdout",
     "output_type": "stream",
     "text": [
      "3\n",
      "100\n"
     ]
    }
   ],
   "source": [
    "my_var = 3\n",
    "print(my_var)\n",
    "\n",
    "my_var = 100\n",
    "print(my_var)"
   ]
  },
  {
   "cell_type": "code",
   "execution_count": 8,
   "id": "8faa86f3-cfe9-41d4-a80a-7dcf8378b529",
   "metadata": {},
   "outputs": [
    {
     "ename": "NameError",
     "evalue": "name 'currrent_year' is not defined",
     "output_type": "error",
     "traceback": [
      "\u001b[0;31m---------------------------------------------------------------------------\u001b[0m",
      "\u001b[0;31mNameError\u001b[0m                                 Traceback (most recent call last)",
      "Cell \u001b[0;32mIn[8], line 4\u001b[0m\n\u001b[1;32m      1\u001b[0m date_of_birth\u001b[38;5;241m=\u001b[39m \u001b[38;5;241m1991\u001b[39m\n\u001b[1;32m      2\u001b[0m current_year \u001b[38;5;241m=\u001b[39m \u001b[38;5;241m2024\u001b[39m\n\u001b[0;32m----> 4\u001b[0m \u001b[38;5;28mprint\u001b[39m(\u001b[43mcurrrent_year\u001b[49m\u001b[38;5;241m-\u001b[39mdate_of_birth)\n",
      "\u001b[0;31mNameError\u001b[0m: name 'currrent_year' is not defined"
     ]
    }
   ],
   "source": [
    "date_of_birth= 1991\n",
    "current_year = 2024\n",
    "\n",
    "print(current_year-date_of_birth)\n"
   ]
  },
  {
   "cell_type": "code",
   "execution_count": null,
   "id": "d406e5b9-07b8-4c3f-a392-4072d2ec5c9c",
   "metadata": {},
   "outputs": [],
   "source": []
  }
 ],
 "metadata": {
  "kernelspec": {
   "display_name": "Python 3 (ipykernel)",
   "language": "python",
   "name": "python3"
  },
  "language_info": {
   "codemirror_mode": {
    "name": "ipython",
    "version": 3
   },
   "file_extension": ".py",
   "mimetype": "text/x-python",
   "name": "python",
   "nbconvert_exporter": "python",
   "pygments_lexer": "ipython3",
   "version": "3.10.16"
  }
 },
 "nbformat": 4,
 "nbformat_minor": 5
}
