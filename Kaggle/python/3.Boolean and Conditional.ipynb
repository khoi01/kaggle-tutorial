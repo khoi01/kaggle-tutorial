{
 "cells": [
  {
   "cell_type": "code",
   "execution_count": 2,
   "id": "d64a7022-33be-467e-8e81-c12abbb83b38",
   "metadata": {},
   "outputs": [],
   "source": [
    "x = True"
   ]
  },
  {
   "cell_type": "code",
   "execution_count": 3,
   "id": "d5a56137-92db-49ec-b1a8-e08510118071",
   "metadata": {},
   "outputs": [
    {
     "name": "stdout",
     "output_type": "stream",
     "text": [
      "True\n",
      "<class 'bool'>\n"
     ]
    }
   ],
   "source": [
    "print(x)\n",
    "print(type(x))"
   ]
  },
  {
   "cell_type": "code",
   "execution_count": 4,
   "id": "fe2ee37b-230d-49ba-aa38-23c3cd3733bc",
   "metadata": {},
   "outputs": [
    {
     "name": "stdout",
     "output_type": "stream",
     "text": [
      "Can a 19-year-old run for president? False\n",
      "Can a 45-year-old run for president? True\n"
     ]
    }
   ],
   "source": [
    "def can_run_for_president(age):\n",
    "    \"\"\"Can someone of the given age run for president in the US?\"\"\"\n",
    "    # The US Constitution says you must be at least 35 years old\n",
    "    return age >= 35\n",
    "\n",
    "print(\"Can a 19-year-old run for president?\", can_run_for_president(19))\n",
    "print(\"Can a 45-year-old run for president?\", can_run_for_president(45))"
   ]
  },
  {
   "cell_type": "code",
   "execution_count": 5,
   "id": "4087a51a-34bc-43e7-88be-9fb21e6a3f37",
   "metadata": {},
   "outputs": [
    {
     "name": "stdout",
     "output_type": "stream",
     "text": [
      "my age is 34\n"
     ]
    }
   ],
   "source": [
    "def test(age):\n",
    "    return age\n",
    "\n",
    "print(\"my age is\",test(34))"
   ]
  },
  {
   "cell_type": "code",
   "execution_count": 6,
   "id": "e2099d73-888d-4d63-8b8b-285aeb352314",
   "metadata": {},
   "outputs": [
    {
     "data": {
      "text/plain": [
       "False"
      ]
     },
     "execution_count": 6,
     "metadata": {},
     "output_type": "execute_result"
    }
   ],
   "source": [
    "3 == 1"
   ]
  },
  {
   "cell_type": "code",
   "execution_count": 7,
   "id": "e56b1e6f-d9df-4e9b-ab44-2ac9e55c3973",
   "metadata": {},
   "outputs": [
    {
     "data": {
      "text/plain": [
       "True"
      ]
     },
     "execution_count": 7,
     "metadata": {},
     "output_type": "execute_result"
    }
   ],
   "source": [
    "3 == 3"
   ]
  },
  {
   "cell_type": "code",
   "execution_count": 8,
   "id": "d940bd2c-7a5e-4bf1-afc6-ce49769c8892",
   "metadata": {},
   "outputs": [
    {
     "data": {
      "text/plain": [
       "True"
      ]
     },
     "execution_count": 8,
     "metadata": {},
     "output_type": "execute_result"
    }
   ],
   "source": [
    "True or True and False"
   ]
  },
  {
   "cell_type": "code",
   "execution_count": 9,
   "id": "07af4c28-d499-43b5-aaab-01225d987389",
   "metadata": {},
   "outputs": [
    {
     "name": "stdout",
     "output_type": "stream",
     "text": [
      "0 is zero\n",
      "-15 is negative\n"
     ]
    }
   ],
   "source": [
    "def inspect(x):\n",
    "    if x == 0:\n",
    "        print(x, \"is zero\")\n",
    "    elif x > 0:\n",
    "        print(x, \"is positive\")\n",
    "    elif x < 0:\n",
    "        print(x, \"is negative\")\n",
    "    else:\n",
    "        print(x, \"is unlike anything I've ever seen...\")\n",
    "\n",
    "inspect(0)\n",
    "inspect(-15)"
   ]
  },
  {
   "cell_type": "code",
   "execution_count": 10,
   "id": "13a9f350-0032-407e-a677-fcdd2343e74b",
   "metadata": {},
   "outputs": [
    {
     "name": "stdout",
     "output_type": "stream",
     "text": [
      "Only printed when x is positive; x = 1\n",
      "Also only printed when x is positive; x = 1\n",
      "Always printed, regardless of x's value; x = 1\n",
      "Always printed, regardless of x's value; x = 0\n"
     ]
    }
   ],
   "source": [
    "def f(x):\n",
    "    if x > 0:\n",
    "        print(\"Only printed when x is positive; x =\", x)\n",
    "        print(\"Also only printed when x is positive; x =\", x)\n",
    "    print(\"Always printed, regardless of x's value; x =\", x)\n",
    "\n",
    "f(1)\n",
    "f(0)"
   ]
  },
  {
   "cell_type": "code",
   "execution_count": 12,
   "id": "97a09411-00dd-4818-bd7d-a131453f88a3",
   "metadata": {},
   "outputs": [
    {
     "name": "stdout",
     "output_type": "stream",
     "text": [
      "True\n",
      "False\n",
      "True\n",
      "False\n",
      "True\n"
     ]
    }
   ],
   "source": [
    "print(bool(1)) # all numbers are treated as true, except 0\n",
    "print(bool(0))\n",
    "print(bool(\"asf\")) # all strings are treated as true, except the empty string \"\"\n",
    "print(bool(\"\"))\n",
    "print(bool(\"as\") == True)"
   ]
  },
  {
   "cell_type": "code",
   "execution_count": null,
   "id": "1bff0a91-9d74-4bf1-a0a7-83d95c61a90e",
   "metadata": {},
   "outputs": [],
   "source": []
  }
 ],
 "metadata": {
  "kernelspec": {
   "display_name": "Python 3 (ipykernel)",
   "language": "python",
   "name": "python3"
  },
  "language_info": {
   "codemirror_mode": {
    "name": "ipython",
    "version": 3
   },
   "file_extension": ".py",
   "mimetype": "text/x-python",
   "name": "python",
   "nbconvert_exporter": "python",
   "pygments_lexer": "ipython3",
   "version": "3.10.16"
  }
 },
 "nbformat": 4,
 "nbformat_minor": 5
}
