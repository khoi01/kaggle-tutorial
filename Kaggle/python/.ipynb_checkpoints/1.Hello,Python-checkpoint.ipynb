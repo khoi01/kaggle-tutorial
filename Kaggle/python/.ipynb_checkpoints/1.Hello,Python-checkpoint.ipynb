{
 "cells": [
  {
   "cell_type": "code",
   "execution_count": 6,
   "id": "b1b45d3c-4c84-4fc7-815d-f9eccae60840",
   "metadata": {},
   "outputs": [
    {
     "name": "stdout",
     "output_type": "stream",
     "text": [
      "0\n",
      "But I dont want Any Spam!\n",
      "Spam Spam \n"
     ]
    }
   ],
   "source": [
    "spam_amount = 0\n",
    "print(spam_amount)\n",
    "\n",
    "spam_amount = spam_amount + 3\n",
    "\n",
    "if spam_amount > 0:\n",
    "    print(\"But I dont want Any Spam!\")\n",
    "\n",
    "viking_song = \"Spam \" * 2\n",
    "print(viking_song)"
   ]
  },
  {
   "cell_type": "code",
   "execution_count": null,
   "id": "8e5b0afb-fee0-41f9-98b4-5c34e5a86d6f",
   "metadata": {},
   "outputs": [],
   "source": []
  }
 ],
 "metadata": {
  "kernelspec": {
   "display_name": "Python 3 (ipykernel)",
   "language": "python",
   "name": "python3"
  },
  "language_info": {
   "codemirror_mode": {
    "name": "ipython",
    "version": 3
   },
   "file_extension": ".py",
   "mimetype": "text/x-python",
   "name": "python",
   "nbconvert_exporter": "python",
   "pygments_lexer": "ipython3",
   "version": "3.10.16"
  }
 },
 "nbformat": 4,
 "nbformat_minor": 5
}
