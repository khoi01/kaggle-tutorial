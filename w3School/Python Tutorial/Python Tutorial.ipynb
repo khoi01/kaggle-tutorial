{
 "cells": [
  {
   "cell_type": "code",
   "execution_count": 3,
   "id": "de6c6cde-c7b3-4dfa-87f2-45c862b5f28e",
   "metadata": {},
   "outputs": [
    {
     "name": "stdout",
     "output_type": "stream",
     "text": [
      "hello world!\n"
     ]
    }
   ],
   "source": [
    "#print message\n",
    "print(\"hello world!\")"
   ]
  },
  {
   "cell_type": "code",
   "execution_count": 5,
   "id": "6c08ccad-3cb2-4203-a04c-df44c0b0cda5",
   "metadata": {},
   "outputs": [
    {
     "name": "stdout",
     "output_type": "stream",
     "text": [
      "3.10.16 (main, Feb  5 2025, 12:53:27) [GCC 12.2.0]\n"
     ]
    }
   ],
   "source": [
    "#check version\n",
    "import sys\n",
    "print(sys.version)"
   ]
  },
  {
   "cell_type": "code",
   "execution_count": 7,
   "id": "58ebca71-c955-499d-8cf4-db3f58f7922b",
   "metadata": {},
   "outputs": [
    {
     "name": "stdout",
     "output_type": "stream",
     "text": [
      "True\n"
     ]
    }
   ],
   "source": [
    "if 5 == 5:\n",
    "    print(True)    "
   ]
  },
  {
   "cell_type": "code",
   "execution_count": 9,
   "id": "2d1a0902-4b7f-47cd-afab-10767d23ee34",
   "metadata": {},
   "outputs": [
    {
     "name": "stdout",
     "output_type": "stream",
     "text": [
      "True\n"
     ]
    }
   ],
   "source": [
    "if True:\n",
    "        print(True)"
   ]
  },
  {
   "cell_type": "code",
   "execution_count": 10,
   "id": "12d30762-8c7a-4677-af37-230fceabd927",
   "metadata": {},
   "outputs": [],
   "source": [
    "#variable\n",
    "x = 5\n",
    "y = \"hello world\"\n"
   ]
  },
  {
   "cell_type": "code",
   "execution_count": 12,
   "id": "31979d7f-f1b3-487b-b5f9-96122bba7803",
   "metadata": {},
   "outputs": [],
   "source": [
    "#This is a comment.\n"
   ]
  },
  {
   "cell_type": "code",
   "execution_count": 15,
   "id": "2b623ce6-7801-415d-b958-270589656443",
   "metadata": {},
   "outputs": [
    {
     "name": "stdout",
     "output_type": "stream",
     "text": [
      "Hello, World!\n"
     ]
    }
   ],
   "source": [
    "\"\"\"\n",
    "This is a comment\n",
    "written in\n",
    "more than just one line\n",
    "\"\"\"\n",
    "print(\"Hello, World!\")"
   ]
  },
  {
   "cell_type": "code",
   "execution_count": 17,
   "id": "dd2897b7-6b16-474c-9935-1e48fb5cdaa9",
   "metadata": {},
   "outputs": [
    {
     "name": "stdout",
     "output_type": "stream",
     "text": [
      "5\n",
      "john\n"
     ]
    }
   ],
   "source": [
    "#variable\n",
    "x=5\n",
    "y=\"john\"\n",
    "print(x)\n",
    "print(y)"
   ]
  },
  {
   "cell_type": "code",
   "execution_count": 19,
   "id": "8fb49784-95fc-43c3-b599-90081c0cec56",
   "metadata": {},
   "outputs": [
    {
     "name": "stdout",
     "output_type": "stream",
     "text": [
      "<class 'str'>\n",
      "<class 'float'>\n",
      "<class 'int'>\n"
     ]
    }
   ],
   "source": [
    "#casting\n",
    "x=str(3)\n",
    "y=float(3)\n",
    "z=int(3)\n",
    "print(type(x))\n",
    "print(type(y))\n",
    "print(type(z))"
   ]
  },
  {
   "cell_type": "code",
   "execution_count": 20,
   "id": "0dcb025d-e08e-49a6-9fae-308a89656cc3",
   "metadata": {},
   "outputs": [],
   "source": [
    "#case sensitive\n",
    "a = 4\n",
    "A = \"Sally\"\n",
    "#A will not overwrite a"
   ]
  },
  {
   "cell_type": "code",
   "execution_count": 22,
   "id": "32d919dc-4839-4991-80a5-fbfcab91c093",
   "metadata": {},
   "outputs": [
    {
     "name": "stdout",
     "output_type": "stream",
     "text": [
      "Orange\n",
      "Apple\n",
      "Banana\n"
     ]
    }
   ],
   "source": [
    "#Assign Multiple Values\n",
    "x,y,z = \"Orange\",\"Apple\",\"Banana\"\n",
    "print(x)\n",
    "print(y)\n",
    "print(z)"
   ]
  },
  {
   "cell_type": "code",
   "execution_count": 28,
   "id": "2c947d62-6e65-4973-9218-3530a5088508",
   "metadata": {},
   "outputs": [
    {
     "name": "stdout",
     "output_type": "stream",
     "text": [
      "Orange\n"
     ]
    }
   ],
   "source": [
    "#One Value to Multiple Variables\n",
    "x = y = z = \"Orange\"\n",
    "print(x)"
   ]
  },
  {
   "cell_type": "code",
   "execution_count": 29,
   "id": "be9f8d05-c82a-42bf-b533-f0e586c21c5c",
   "metadata": {},
   "outputs": [
    {
     "name": "stdout",
     "output_type": "stream",
     "text": [
      "A\n",
      "B\n",
      "C\n"
     ]
    }
   ],
   "source": [
    "#Unpack a Collection (unpack from collection/list/taple/etc to variables\n",
    "fruits = [\"A\",\"B\",\"C\"]\n",
    "x,y,z = fruits\n",
    "print(x)\n",
    "print(y)\n",
    "print(z)"
   ]
  },
  {
   "cell_type": "code",
   "execution_count": 36,
   "id": "26a4edcb-2057-4853-9ee5-2da19c4c8d86",
   "metadata": {},
   "outputs": [
    {
     "name": "stdout",
     "output_type": "stream",
     "text": [
      "python awesome\n",
      "python awesome .Yeah !!\n",
      "python awesome.Yeah!!\n",
      "10\n",
      "5 5 !!\n"
     ]
    }
   ],
   "source": [
    "x = \"python awesome\"\n",
    "y = \".Yeah\"\n",
    "z = \"!!\"\n",
    "print(x)\n",
    "print(x,y,z)\n",
    "print(x+y+z)\n",
    "\n",
    "x=5\n",
    "y=5\n",
    "print(x+y)\n",
    "print(x,y,z)"
   ]
  },
  {
   "cell_type": "code",
   "execution_count": 38,
   "id": "57f538fd-f19b-4c63-8b78-051775536fb5",
   "metadata": {},
   "outputs": [
    {
     "name": "stdout",
     "output_type": "stream",
     "text": [
      "---> hello world\n"
     ]
    }
   ],
   "source": [
    "#global variables\n",
    "\n",
    "x = \"hello world\"\n",
    "\n",
    "def myFunction():\n",
    "    print(\"--->\",x)\n",
    "\n",
    "myFunction()"
   ]
  },
  {
   "cell_type": "code",
   "execution_count": 39,
   "id": "a0a7d7be-8789-42f2-a9be-cda7355a63ec",
   "metadata": {},
   "outputs": [
    {
     "name": "stdout",
     "output_type": "stream",
     "text": [
      "---> override\n"
     ]
    }
   ],
   "source": [
    "#global variables\n",
    "\n",
    "x = \"hello world\"\n",
    "\n",
    "def myFunction():\n",
    "    x=\"override\"\n",
    "    print(\"--->\",x)\n",
    "\n",
    "myFunction()"
   ]
  },
  {
   "cell_type": "code",
   "execution_count": 41,
   "id": "6644ccb5-ceff-4650-862a-5390bf1ee481",
   "metadata": {},
   "outputs": [
    {
     "name": "stdout",
     "output_type": "stream",
     "text": [
      "hai, hello world\n"
     ]
    }
   ],
   "source": [
    "#assign global variable inside the function\n",
    "def myFunction():\n",
    "    global x\n",
    "    x = \"hello world\"\n",
    "\n",
    "myFunction()\n",
    "print(\"hai,\",x)"
   ]
  },
  {
   "cell_type": "code",
   "execution_count": 42,
   "id": "ab25c8bc-bfbe-42eb-beff-406174f99688",
   "metadata": {},
   "outputs": [
    {
     "name": "stdout",
     "output_type": "stream",
     "text": [
      "6\n"
     ]
    }
   ],
   "source": [
    "#Random Number Library\n",
    "import random as r\n",
    "print(r.randrange(1,10))"
   ]
  },
  {
   "cell_type": "code",
   "execution_count": 43,
   "id": "28318266-3ae2-4de0-89c9-d64806716650",
   "metadata": {},
   "outputs": [
    {
     "name": "stdout",
     "output_type": "stream",
     "text": [
      "hello world\n",
      "hello world\n"
     ]
    }
   ],
   "source": [
    "#Strings\n",
    "print(\"hello world\")\n",
    "print('hello world')"
   ]
  },
  {
   "cell_type": "code",
   "execution_count": 44,
   "id": "07ecc20c-34ef-4a76-84a3-3887f636c6a4",
   "metadata": {},
   "outputs": [
    {
     "name": "stdout",
     "output_type": "stream",
     "text": [
      "It's Alright!\n",
      "Hello\" World\n"
     ]
    }
   ],
   "source": [
    "print(\"It's Alright!\")\n",
    "print('Hello\" World')"
   ]
  },
  {
   "cell_type": "code",
   "execution_count": 45,
   "id": "19e3ad14-52d1-4c29-a293-c87aaafd8745",
   "metadata": {},
   "outputs": [
    {
     "name": "stdout",
     "output_type": "stream",
     "text": [
      "values\n"
     ]
    }
   ],
   "source": [
    "a = \"values\"\n",
    "print(a)"
   ]
  },
  {
   "cell_type": "code",
   "execution_count": 46,
   "id": "788e4526-47f0-4467-8c63-530de135a978",
   "metadata": {},
   "outputs": [
    {
     "name": "stdout",
     "output_type": "stream",
     "text": [
      "\n",
      "        Hello Son!\n",
      "    \n"
     ]
    }
   ],
   "source": [
    "a = \"\"\"\n",
    "        Hello Son!\n",
    "    \"\"\"\n",
    "print(a)"
   ]
  },
  {
   "cell_type": "code",
   "execution_count": 47,
   "id": "d529a766-8f66-41b6-bec5-4a63b69edb41",
   "metadata": {},
   "outputs": [
    {
     "name": "stdout",
     "output_type": "stream",
     "text": [
      "\n",
      "        Hello Son!\n",
      "    \n"
     ]
    }
   ],
   "source": [
    "a = '''\n",
    "        Hello Son!\n",
    "    '''\n",
    "print(a)"
   ]
  },
  {
   "cell_type": "code",
   "execution_count": 48,
   "id": "3d51bfac-6870-4a4f-b36e-3da552749d41",
   "metadata": {},
   "outputs": [
    {
     "name": "stdout",
     "output_type": "stream",
     "text": [
      "H\n"
     ]
    }
   ],
   "source": [
    "#Strings are Arrays\n",
    "\n",
    "a = \"Hello World\"\n",
    "print(a[0])"
   ]
  },
  {
   "cell_type": "code",
   "execution_count": 52,
   "id": "36dcd177-246b-454f-9fe5-8511d72edaf6",
   "metadata": {},
   "outputs": [
    {
     "name": "stdout",
     "output_type": "stream",
     "text": [
      "H\n",
      "e\n",
      "l\n",
      "l\n",
      "o\n",
      " \n",
      "w\n",
      "o\n",
      "r\n",
      "l\n",
      "d\n"
     ]
    }
   ],
   "source": [
    "#loop each string value array\n",
    "for x in \"Hello world\":\n",
    "    print(x)\n"
   ]
  },
  {
   "cell_type": "code",
   "execution_count": 53,
   "id": "2d514110-9fe6-453b-8af1-3883f4c28d9a",
   "metadata": {},
   "outputs": [
    {
     "name": "stdout",
     "output_type": "stream",
     "text": [
      "11\n",
      "Hello World\n"
     ]
    }
   ],
   "source": [
    "#String length\n",
    "print(len(a))\n",
    "print(a)"
   ]
  },
  {
   "cell_type": "code",
   "execution_count": 57,
   "id": "e68add16-a3c6-4ee1-b910-418e077219ce",
   "metadata": {},
   "outputs": [
    {
     "name": "stdout",
     "output_type": "stream",
     "text": [
      "True\n"
     ]
    }
   ],
   "source": [
    "#Check if NOT (S\n",
    "x=\"Hello World,I'am the order\"\n",
    "if \"the\" in x:\n",
    "    print(True)"
   ]
  },
  {
   "cell_type": "code",
   "execution_count": null,
   "id": "d1193623-550d-449e-bff1-e677814fe461",
   "metadata": {},
   "outputs": [],
   "source": []
  },
  {
   "cell_type": "code",
   "execution_count": null,
   "id": "8d870441-cf4c-4f9e-b4c0-fe810c3fdd44",
   "metadata": {},
   "outputs": [],
   "source": []
  }
 ],
 "metadata": {
  "kernelspec": {
   "display_name": "Python 3 (ipykernel)",
   "language": "python",
   "name": "python3"
  },
  "language_info": {
   "codemirror_mode": {
    "name": "ipython",
    "version": 3
   },
   "file_extension": ".py",
   "mimetype": "text/x-python",
   "name": "python",
   "nbconvert_exporter": "python",
   "pygments_lexer": "ipython3",
   "version": "3.10.16"
  }
 },
 "nbformat": 4,
 "nbformat_minor": 5
}
