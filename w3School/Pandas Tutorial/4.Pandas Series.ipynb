{
 "cells": [
  {
   "cell_type": "code",
   "execution_count": 1,
   "id": "24c72c39-3fc5-4638-989b-1e5531a61733",
   "metadata": {},
   "outputs": [],
   "source": [
    "import pandas as pd"
   ]
  },
  {
   "cell_type": "code",
   "execution_count": 13,
   "id": "4fc6487d-93d5-44e1-ae98-ddbd61456d7a",
   "metadata": {},
   "outputs": [],
   "source": [
    "a = [1,7,2]\n",
    "myvar = pd.Series(a)"
   ]
  },
  {
   "cell_type": "code",
   "execution_count": 20,
   "id": "03cc384d-4770-44dc-b8aa-569dbefd8269",
   "metadata": {},
   "outputs": [
    {
     "name": "stdout",
     "output_type": "stream",
     "text": [
      "[1, 7, 2]\n",
      "====\n",
      "0    1\n",
      "1    7\n",
      "2    2\n",
      "dtype: int64\n"
     ]
    }
   ],
   "source": [
    "print(a)\n",
    "print(\"====\")\n",
    "print(myvar)"
   ]
  },
  {
   "cell_type": "code",
   "execution_count": 21,
   "id": "c07de6ef-ba1b-4138-8e4b-41f9e2b74868",
   "metadata": {},
   "outputs": [
    {
     "name": "stdout",
     "output_type": "stream",
     "text": [
      "1\n"
     ]
    }
   ],
   "source": [
    "print(myvar[0])"
   ]
  },
  {
   "cell_type": "code",
   "execution_count": 22,
   "id": "60355625-38ad-459f-91b9-c08c7b1d4969",
   "metadata": {},
   "outputs": [
    {
     "name": "stdout",
     "output_type": "stream",
     "text": [
      "7\n"
     ]
    }
   ],
   "source": [
    "print(myvar[1])"
   ]
  },
  {
   "cell_type": "code",
   "execution_count": 28,
   "id": "e0b137fc-b228-4843-8674-249dcbcbf5d4",
   "metadata": {},
   "outputs": [
    {
     "name": "stdout",
     "output_type": "stream",
     "text": [
      "x    1\n",
      "y    7\n",
      "z    2\n",
      "dtype: int64\n"
     ]
    }
   ],
   "source": [
    "b = [1,15,3]\n",
    "\n",
    "myvar = pd.Series(a,index=[\"x\",\"y\",\"z\"]) #assign label\n",
    "print(myvar)"
   ]
  },
  {
   "cell_type": "code",
   "execution_count": 30,
   "id": "29e3f120-6e2f-465c-a060-447292ca8d98",
   "metadata": {},
   "outputs": [
    {
     "name": "stdout",
     "output_type": "stream",
     "text": [
      "7\n"
     ]
    }
   ],
   "source": [
    "print(myvar[\"y\"])  # access value thru index label"
   ]
  },
  {
   "cell_type": "code",
   "execution_count": 32,
   "id": "0ad843e5-4529-4e69-b74f-1fd63ec78ae9",
   "metadata": {},
   "outputs": [
    {
     "name": "stdout",
     "output_type": "stream",
     "text": [
      "day1    420\n",
      "day2    380\n",
      "day3    390\n",
      "dtype: int64\n"
     ]
    }
   ],
   "source": [
    "#create Series from dictionary\n",
    "calories = {\"day1\": 420, \"day2\": 380, \"day3\": 390}\n",
    "#convert to series\n",
    "myvar=pd.Series(calories)\n",
    "print(myvar)"
   ]
  },
  {
   "cell_type": "code",
   "execution_count": 35,
   "id": "a3fd8cc7-3cb0-4b47-971b-7f1cfafbc755",
   "metadata": {},
   "outputs": [
    {
     "name": "stdout",
     "output_type": "stream",
     "text": [
      "day1    420\n",
      "day2    380\n",
      "dtype: int64\n"
     ]
    }
   ],
   "source": [
    "#convert to series and only add 2 value (day1,day2) on the Series \n",
    "myvar=pd.Series(calories,index=[\"day1\",\"day2\"])\n",
    "print(myvar)"
   ]
  },
  {
   "cell_type": "code",
   "execution_count": 38,
   "id": "3e75ea38-adf5-4b51-a4a8-fd854cf55cd2",
   "metadata": {},
   "outputs": [
    {
     "name": "stdout",
     "output_type": "stream",
     "text": [
      "  calories  duration\n",
      "a       50        10\n",
      "b       25        15\n",
      "c       13         5\n"
     ]
    }
   ],
   "source": [
    "# DataFrame is the whole table.\n",
    "\n",
    "data = {\n",
    "    \"calories\":[\"50\",\"25\",\"13\"],\n",
    "    \"duration\":[10,15,5]\n",
    "}\n",
    "myvar = pd.DataFrame(data,index=[\"a\",\"b\",\"c\"])\n",
    "print(myvar)\n",
    "\n",
    "    "
   ]
  },
  {
   "cell_type": "code",
   "execution_count": null,
   "id": "35380f57-34fa-4b54-81a2-9fd7662a73f8",
   "metadata": {},
   "outputs": [],
   "source": []
  }
 ],
 "metadata": {
  "kernelspec": {
   "display_name": "Python 3 (ipykernel)",
   "language": "python",
   "name": "python3"
  },
  "language_info": {
   "codemirror_mode": {
    "name": "ipython",
    "version": 3
   },
   "file_extension": ".py",
   "mimetype": "text/x-python",
   "name": "python",
   "nbconvert_exporter": "python",
   "pygments_lexer": "ipython3",
   "version": "3.10.16"
  }
 },
 "nbformat": 4,
 "nbformat_minor": 5
}
