{
 "cells": [
  {
   "cell_type": "code",
   "execution_count": 1,
   "id": "3ddcf858-c30e-4685-978c-2dd6e81cf932",
   "metadata": {},
   "outputs": [],
   "source": [
    "import pandas"
   ]
  },
  {
   "cell_type": "code",
   "execution_count": null,
   "id": "78577cc6-de05-45f0-b90c-58de365620b4",
   "metadata": {},
   "outputs": [],
   "source": [
    "mydatasets = {\n",
    "    'car':[\"BMW\",\"Volvo\",\"Ford\"],\n",
    "    'passings':[3,7,2]\n",
    "}\n",
    "\n",
    "myvar = pandas"
   ]
  }
 ],
 "metadata": {
  "kernelspec": {
   "display_name": "Python 3 (ipykernel)",
   "language": "python",
   "name": "python3"
  },
  "language_info": {
   "codemirror_mode": {
    "name": "ipython",
    "version": 3
   },
   "file_extension": ".py",
   "mimetype": "text/x-python",
   "name": "python",
   "nbconvert_exporter": "python",
   "pygments_lexer": "ipython3",
   "version": "3.10.16"
  }
 },
 "nbformat": 4,
 "nbformat_minor": 5
}
