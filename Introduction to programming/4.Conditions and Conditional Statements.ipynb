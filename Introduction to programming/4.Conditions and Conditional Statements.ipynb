{
 "cells": [
  {
   "cell_type": "code",
   "execution_count": 1,
   "id": "56352fd8-1d7c-4c4b-8e41-b7a90d3e821e",
   "metadata": {},
   "outputs": [
    {
     "name": "stdout",
     "output_type": "stream",
     "text": [
      "False\n"
     ]
    }
   ],
   "source": [
    "print(2 > 3)\n"
   ]
  },
  {
   "cell_type": "code",
   "execution_count": 2,
   "id": "91f3c720-299c-4bb3-848b-aa20ce52b0f8",
   "metadata": {},
   "outputs": [
    {
     "name": "stdout",
     "output_type": "stream",
     "text": [
      "False\n",
      "True\n"
     ]
    }
   ],
   "source": [
    "var_one = 1;\n",
    "var_two = 2;\n",
    "\n",
    "print(var_one < 1)\n",
    "print(var_two >= var_one)"
   ]
  },
  {
   "cell_type": "code",
   "execution_count": 3,
   "id": "14c268bb-647e-451e-ac8f-db28cd0f80fb",
   "metadata": {},
   "outputs": [],
   "source": [
    "def evaluate_temp(temp):\n",
    "    message = \"normal temperature\"\n",
    "    if temp > 38:\n",
    "        message = \"Fever!\";\n",
    "    return message;"
   ]
  },
  {
   "cell_type": "code",
   "execution_count": 5,
   "id": "400dadfb-876c-47b0-bfc0-72a8939937e2",
   "metadata": {},
   "outputs": [
    {
     "name": "stdout",
     "output_type": "stream",
     "text": [
      "normal temperature\n"
     ]
    }
   ],
   "source": [
    "print(evaluate_temp(37))"
   ]
  },
  {
   "cell_type": "code",
   "execution_count": 6,
   "id": "e5666ba3-6673-427c-8ac0-df5f47f997a1",
   "metadata": {},
   "outputs": [],
   "source": [
    "def evaluate_temp_with_else(temp):\n",
    "    if temp > 38:\n",
    "        message = \"Fever!\"\n",
    "    else:\n",
    "        message = \"normal temperature\"\n",
    "    return message"
   ]
  },
  {
   "cell_type": "code",
   "execution_count": 7,
   "id": "1e309c6a-1358-4384-bfe2-d35dc41de7b7",
   "metadata": {},
   "outputs": [
    {
     "name": "stdout",
     "output_type": "stream",
     "text": [
      "normal temperature\n"
     ]
    }
   ],
   "source": [
    "print(evaluate_temp_with_else(37))\n"
   ]
  },
  {
   "cell_type": "code",
   "execution_count": 8,
   "id": "d4f9bde9-ecaf-492f-840d-c13d92a50752",
   "metadata": {},
   "outputs": [],
   "source": [
    "def evaluate_temp_with_elif(temp):\n",
    "    if temp > 38:\n",
    "        message = \"Fever!\"\n",
    "    elif temp > 35:\n",
    "        message = \"Normal temperature.\"\n",
    "    else:\n",
    "        message = \"Low temperature.\"\n",
    "    return message"
   ]
  },
  {
   "cell_type": "code",
   "execution_count": 9,
   "id": "2ef31342-061d-4f5a-87ad-11073b812e77",
   "metadata": {},
   "outputs": [
    {
     "data": {
      "text/plain": [
       "'Normal temperature.'"
      ]
     },
     "execution_count": 9,
     "metadata": {},
     "output_type": "execute_result"
    }
   ],
   "source": [
    "evaluate_temp_with_elif(36)\n"
   ]
  },
  {
   "cell_type": "code",
   "execution_count": 10,
   "id": "e7dd2e19-9e9f-47fa-86b3-cffa75294ee8",
   "metadata": {},
   "outputs": [],
   "source": [
    "def get_dose(weight):\n",
    "    # Dosage is 1.25 ml for anyone under 5.2 kg\n",
    "    if weight < 5.2:\n",
    "        dose = 1.25\n",
    "    elif weight < 7.9:\n",
    "        dose = 2.5\n",
    "    elif weight < 10.4:\n",
    "        dose = 3.75\n",
    "    elif weight < 15.9:\n",
    "        dose = 5\n",
    "    elif weight < 21.2:\n",
    "        dose = 7.5\n",
    "    # Dosage is 10 ml for anyone 21.2 kg or over\n",
    "    else:\n",
    "        dose = 10\n",
    "    return dose"
   ]
  },
  {
   "cell_type": "code",
   "execution_count": 11,
   "id": "4192d1a8-f257-4aa8-a5b5-62ebdcb86aca",
   "metadata": {},
   "outputs": [
    {
     "name": "stdout",
     "output_type": "stream",
     "text": [
      "5\n"
     ]
    }
   ],
   "source": [
    "print(get_dose(12))\n"
   ]
  },
  {
   "cell_type": "code",
   "execution_count": null,
   "id": "39c9ab6d-9e4a-474b-9ca5-6a7837a2fe1c",
   "metadata": {},
   "outputs": [],
   "source": []
  }
 ],
 "metadata": {
  "kernelspec": {
   "display_name": "Python 3 (ipykernel)",
   "language": "python",
   "name": "python3"
  },
  "language_info": {
   "codemirror_mode": {
    "name": "ipython",
    "version": 3
   },
   "file_extension": ".py",
   "mimetype": "text/x-python",
   "name": "python",
   "nbconvert_exporter": "python",
   "pygments_lexer": "ipython3",
   "version": "3.10.16"
  }
 },
 "nbformat": 4,
 "nbformat_minor": 5
}
